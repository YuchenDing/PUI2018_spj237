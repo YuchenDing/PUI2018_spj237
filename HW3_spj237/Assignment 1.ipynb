{
 "cells": [
  {
   "cell_type": "code",
   "execution_count": 48,
   "metadata": {},
   "outputs": [
    {
     "name": "stdout",
     "output_type": "stream",
     "text": [
      "/nfshome/spj237/PUIdata\n"
     ]
    }
   ],
   "source": [
    "# developed by Shivam Jumani for PUI in 2018, with help from Dr. Bianco's homework example.\n",
    "# example of gathering, reading, and plotting data\n",
    "import os\n",
    "puidata = os.getenv(\"PUIDATA\")\n",
    "print(puidata)"
   ]
  },
  {
   "cell_type": "code",
   "execution_count": 49,
   "metadata": {},
   "outputs": [],
   "source": [
    "# uses NYC data portal NYC OPEN DATA https://data.cityofnewyork.us/"
   ]
  },
  {
   "cell_type": "code",
   "execution_count": 50,
   "metadata": {},
   "outputs": [],
   "source": [
    "from __future__ import print_function"
   ]
  },
  {
   "cell_type": "code",
   "execution_count": 51,
   "metadata": {},
   "outputs": [
    {
     "name": "stdout",
     "output_type": "stream",
     "text": [
      "  % Total    % Received % Xferd  Average Speed   Time    Time     Time  Current\n",
      "                                 Dload  Upload   Total   Spent    Left  Speed\n",
      "100  321k    0  321k    0     0   711k      0 --:--:-- --:--:-- --:--:--  713k\n"
     ]
    }
   ],
   "source": [
    "!curl https://data.cityofnewyork.us/api/views/hu6m-9cfi/rows.csv?accessType=DOWNLOAD > building.csv"
   ]
  },
  {
   "cell_type": "code",
   "execution_count": 52,
   "metadata": {},
   "outputs": [],
   "source": [
    "import os\n",
    "!mv building.csv $PUIDATA"
   ]
  },
  {
   "cell_type": "code",
   "execution_count": 53,
   "metadata": {},
   "outputs": [
    {
     "name": "stdout",
     "output_type": "stream",
     "text": [
      "building.csv  dhsdaily.csv  energydata.csv\r\n"
     ]
    }
   ],
   "source": [
    "ls $PUIDATA"
   ]
  },
  {
   "cell_type": "code",
   "execution_count": 54,
   "metadata": {},
   "outputs": [],
   "source": [
    "#read in the data with pandas\n",
    "import pandas as pd\n",
    "building = pd.read_csv(\"%s/building.csv\"%os.getenv(\"PUIDATA\"))"
   ]
  },
  {
   "cell_type": "code",
   "execution_count": 55,
   "metadata": {},
   "outputs": [
    {
     "data": {
      "text/html": [
       "<div>\n",
       "<table border=\"1\" class=\"dataframe\">\n",
       "  <thead>\n",
       "    <tr style=\"text-align: right;\">\n",
       "      <th></th>\n",
       "      <th>ProjectBuildingDWID</th>\n",
       "      <th>ProjectID</th>\n",
       "      <th>BuildingID</th>\n",
       "      <th>BoroID</th>\n",
       "      <th>Block</th>\n",
       "      <th>Lot</th>\n",
       "      <th>BIN</th>\n",
       "      <th>HouseNumber</th>\n",
       "      <th>StreetName</th>\n",
       "      <th>TotalBuildingUnits</th>\n",
       "      <th>...</th>\n",
       "      <th>BBL</th>\n",
       "      <th>Community Board</th>\n",
       "      <th>Council District</th>\n",
       "      <th>Census Tract</th>\n",
       "      <th>NTA</th>\n",
       "      <th>Latitude</th>\n",
       "      <th>Longitude</th>\n",
       "      <th>Latitude (Internal)</th>\n",
       "      <th>Longitude (Internal)</th>\n",
       "      <th>Postcode</th>\n",
       "    </tr>\n",
       "  </thead>\n",
       "  <tbody>\n",
       "    <tr>\n",
       "      <th>0</th>\n",
       "      <td>72130</td>\n",
       "      <td>48887</td>\n",
       "      <td>57693.0</td>\n",
       "      <td>2</td>\n",
       "      <td>3737.0</td>\n",
       "      <td>37.0</td>\n",
       "      <td>2023761.0</td>\n",
       "      <td>1160.0</td>\n",
       "      <td>COLGATE AVENUE</td>\n",
       "      <td>17.0</td>\n",
       "      <td>...</td>\n",
       "      <td>2.037370e+09</td>\n",
       "      <td>9.0</td>\n",
       "      <td>17.0</td>\n",
       "      <td>52.0</td>\n",
       "      <td>BX55</td>\n",
       "      <td>40.827218</td>\n",
       "      <td>-73.881706</td>\n",
       "      <td>40.827909</td>\n",
       "      <td>-73.881593</td>\n",
       "      <td>10472.0</td>\n",
       "    </tr>\n",
       "    <tr>\n",
       "      <th>1</th>\n",
       "      <td>70927</td>\n",
       "      <td>48755</td>\n",
       "      <td>72098.0</td>\n",
       "      <td>2</td>\n",
       "      <td>5000.0</td>\n",
       "      <td>1.0</td>\n",
       "      <td>2068251.0</td>\n",
       "      <td>855.0</td>\n",
       "      <td>EAST 233 STREET</td>\n",
       "      <td>108.0</td>\n",
       "      <td>...</td>\n",
       "      <td>2.050000e+09</td>\n",
       "      <td>12.0</td>\n",
       "      <td>12.0</td>\n",
       "      <td>430.0</td>\n",
       "      <td>BX62</td>\n",
       "      <td>40.891940</td>\n",
       "      <td>-73.852775</td>\n",
       "      <td>40.892115</td>\n",
       "      <td>-73.852507</td>\n",
       "      <td>10466.0</td>\n",
       "    </tr>\n",
       "    <tr>\n",
       "      <th>2</th>\n",
       "      <td>69203</td>\n",
       "      <td>49270</td>\n",
       "      <td>947270.0</td>\n",
       "      <td>1</td>\n",
       "      <td>779.0</td>\n",
       "      <td>7.0</td>\n",
       "      <td>1014279.0</td>\n",
       "      <td>257.0</td>\n",
       "      <td>WEST 29 STREET</td>\n",
       "      <td>37.0</td>\n",
       "      <td>...</td>\n",
       "      <td>1.007790e+09</td>\n",
       "      <td>5.0</td>\n",
       "      <td>3.0</td>\n",
       "      <td>95.0</td>\n",
       "      <td>MN17</td>\n",
       "      <td>40.748521</td>\n",
       "      <td>-73.994464</td>\n",
       "      <td>40.749020</td>\n",
       "      <td>-73.995106</td>\n",
       "      <td>10001.0</td>\n",
       "    </tr>\n",
       "  </tbody>\n",
       "</table>\n",
       "<p>3 rows × 22 columns</p>\n",
       "</div>"
      ],
      "text/plain": [
       "   ProjectBuildingDWID  ProjectID  BuildingID  BoroID   Block   Lot  \\\n",
       "0                72130      48887     57693.0       2  3737.0  37.0   \n",
       "1                70927      48755     72098.0       2  5000.0   1.0   \n",
       "2                69203      49270    947270.0       1   779.0   7.0   \n",
       "\n",
       "         BIN  HouseNumber       StreetName  TotalBuildingUnits    ...     \\\n",
       "0  2023761.0       1160.0   COLGATE AVENUE                17.0    ...      \n",
       "1  2068251.0        855.0  EAST 233 STREET               108.0    ...      \n",
       "2  1014279.0        257.0   WEST 29 STREET                37.0    ...      \n",
       "\n",
       "            BBL  Community Board  Council District  Census Tract   NTA  \\\n",
       "0  2.037370e+09              9.0              17.0          52.0  BX55   \n",
       "1  2.050000e+09             12.0              12.0         430.0  BX62   \n",
       "2  1.007790e+09              5.0               3.0          95.0  MN17   \n",
       "\n",
       "    Latitude  Longitude  Latitude (Internal)  Longitude (Internal)  Postcode  \n",
       "0  40.827218 -73.881706            40.827909            -73.881593   10472.0  \n",
       "1  40.891940 -73.852775            40.892115            -73.852507   10466.0  \n",
       "2  40.748521 -73.994464            40.749020            -73.995106   10001.0  \n",
       "\n",
       "[3 rows x 22 columns]"
      ]
     },
     "execution_count": 55,
     "metadata": {},
     "output_type": "execute_result"
    }
   ],
   "source": [
    "building.head(3)"
   ]
  },
  {
   "cell_type": "code",
   "execution_count": 56,
   "metadata": {},
   "outputs": [
    {
     "data": {
      "text/html": [
       "<div>\n",
       "<table border=\"1\" class=\"dataframe\">\n",
       "  <thead>\n",
       "    <tr style=\"text-align: right;\">\n",
       "      <th></th>\n",
       "      <th>ProjectBuildingDWID</th>\n",
       "      <th>ProjectID</th>\n",
       "      <th>BuildingID</th>\n",
       "      <th>BoroID</th>\n",
       "      <th>Block</th>\n",
       "      <th>Lot</th>\n",
       "      <th>BIN</th>\n",
       "      <th>HouseNumber</th>\n",
       "      <th>StreetName</th>\n",
       "      <th>TotalBuildingUnits</th>\n",
       "      <th>...</th>\n",
       "      <th>BBL</th>\n",
       "      <th>Community Board</th>\n",
       "      <th>Council District</th>\n",
       "      <th>Census Tract</th>\n",
       "      <th>NTA</th>\n",
       "      <th>Latitude</th>\n",
       "      <th>Longitude</th>\n",
       "      <th>Latitude (Internal)</th>\n",
       "      <th>Longitude (Internal)</th>\n",
       "      <th>Postcode</th>\n",
       "    </tr>\n",
       "  </thead>\n",
       "  <tbody>\n",
       "    <tr>\n",
       "      <th>1973</th>\n",
       "      <td>396147</td>\n",
       "      <td>55428</td>\n",
       "      <td>805037.0</td>\n",
       "      <td>1</td>\n",
       "      <td>1622.0</td>\n",
       "      <td>17.0</td>\n",
       "      <td>1080650.0</td>\n",
       "      <td>1772.0</td>\n",
       "      <td>MADISON AVENUE</td>\n",
       "      <td>NaN</td>\n",
       "      <td>...</td>\n",
       "      <td>1.016220e+09</td>\n",
       "      <td>11.0</td>\n",
       "      <td>9.0</td>\n",
       "      <td>184.0</td>\n",
       "      <td>MN34</td>\n",
       "      <td>40.800312</td>\n",
       "      <td>-73.944623</td>\n",
       "      <td>40.800694</td>\n",
       "      <td>-73.945085</td>\n",
       "      <td>10035.0</td>\n",
       "    </tr>\n",
       "    <tr>\n",
       "      <th>1974</th>\n",
       "      <td>396146</td>\n",
       "      <td>55428</td>\n",
       "      <td>64060.0</td>\n",
       "      <td>2</td>\n",
       "      <td>2359.0</td>\n",
       "      <td>210.0</td>\n",
       "      <td>2001152.0</td>\n",
       "      <td>510.0</td>\n",
       "      <td>EAST 156 STREET</td>\n",
       "      <td>NaN</td>\n",
       "      <td>...</td>\n",
       "      <td>2.023590e+09</td>\n",
       "      <td>1.0</td>\n",
       "      <td>17.0</td>\n",
       "      <td>71.0</td>\n",
       "      <td>BX34</td>\n",
       "      <td>40.819523</td>\n",
       "      <td>-73.911458</td>\n",
       "      <td>40.818996</td>\n",
       "      <td>-73.911459</td>\n",
       "      <td>10455.0</td>\n",
       "    </tr>\n",
       "    <tr>\n",
       "      <th>1975</th>\n",
       "      <td>396148</td>\n",
       "      <td>55396</td>\n",
       "      <td>746078.0</td>\n",
       "      <td>5</td>\n",
       "      <td>1272.0</td>\n",
       "      <td>11.0</td>\n",
       "      <td>5109139.0</td>\n",
       "      <td>85.0</td>\n",
       "      <td>HOLLAND AVENUE</td>\n",
       "      <td>536.0</td>\n",
       "      <td>...</td>\n",
       "      <td>5.012720e+09</td>\n",
       "      <td>1.0</td>\n",
       "      <td>49.0</td>\n",
       "      <td>31902.0</td>\n",
       "      <td>SI12</td>\n",
       "      <td>40.638542</td>\n",
       "      <td>-74.171232</td>\n",
       "      <td>40.639104</td>\n",
       "      <td>-74.170235</td>\n",
       "      <td>10303.0</td>\n",
       "    </tr>\n",
       "  </tbody>\n",
       "</table>\n",
       "<p>3 rows × 22 columns</p>\n",
       "</div>"
      ],
      "text/plain": [
       "      ProjectBuildingDWID  ProjectID  BuildingID  BoroID   Block    Lot  \\\n",
       "1973               396147      55428    805037.0       1  1622.0   17.0   \n",
       "1974               396146      55428     64060.0       2  2359.0  210.0   \n",
       "1975               396148      55396    746078.0       5  1272.0   11.0   \n",
       "\n",
       "            BIN  HouseNumber       StreetName  TotalBuildingUnits    ...     \\\n",
       "1973  1080650.0       1772.0   MADISON AVENUE                 NaN    ...      \n",
       "1974  2001152.0        510.0  EAST 156 STREET                 NaN    ...      \n",
       "1975  5109139.0         85.0   HOLLAND AVENUE               536.0    ...      \n",
       "\n",
       "               BBL  Community Board  Council District  Census Tract   NTA  \\\n",
       "1973  1.016220e+09             11.0               9.0         184.0  MN34   \n",
       "1974  2.023590e+09              1.0              17.0          71.0  BX34   \n",
       "1975  5.012720e+09              1.0              49.0       31902.0  SI12   \n",
       "\n",
       "       Latitude  Longitude  Latitude (Internal)  Longitude (Internal)  \\\n",
       "1973  40.800312 -73.944623            40.800694            -73.945085   \n",
       "1974  40.819523 -73.911458            40.818996            -73.911459   \n",
       "1975  40.638542 -74.171232            40.639104            -74.170235   \n",
       "\n",
       "      Postcode  \n",
       "1973   10035.0  \n",
       "1974   10455.0  \n",
       "1975   10303.0  \n",
       "\n",
       "[3 rows x 22 columns]"
      ]
     },
     "execution_count": 56,
     "metadata": {},
     "output_type": "execute_result"
    }
   ],
   "source": [
    "building.tail(3)"
   ]
  },
  {
   "cell_type": "code",
   "execution_count": 57,
   "metadata": {},
   "outputs": [
    {
     "data": {
      "text/plain": [
       "Index(['ProjectBuildingDWID', 'ProjectID', 'BuildingID', 'BoroID', 'Block',\n",
       "       'Lot', 'BIN', 'HouseNumber', 'StreetName', 'TotalBuildingUnits',\n",
       "       'BaseSquareFootage', 'Stories', 'BBL', 'Community Board',\n",
       "       'Council District', 'Census Tract', 'NTA', 'Latitude', 'Longitude',\n",
       "       'Latitude (Internal)', 'Longitude (Internal)', 'Postcode'],\n",
       "      dtype='object')"
      ]
     },
     "execution_count": 57,
     "metadata": {},
     "output_type": "execute_result"
    }
   ],
   "source": [
    "building.columns"
   ]
  },
  {
   "cell_type": "code",
   "execution_count": 58,
   "metadata": {},
   "outputs": [
    {
     "data": {
      "text/plain": [
       "43472"
      ]
     },
     "execution_count": 58,
     "metadata": {},
     "output_type": "execute_result"
    }
   ],
   "source": [
    "building.size"
   ]
  },
  {
   "cell_type": "code",
   "execution_count": 59,
   "metadata": {},
   "outputs": [],
   "source": [
    "building_2c = building[['TotalBuildingUnits','Stories']]"
   ]
  },
  {
   "cell_type": "code",
   "execution_count": 60,
   "metadata": {},
   "outputs": [
    {
     "data": {
      "text/html": [
       "<div>\n",
       "<table border=\"1\" class=\"dataframe\">\n",
       "  <thead>\n",
       "    <tr style=\"text-align: right;\">\n",
       "      <th></th>\n",
       "      <th>TotalBuildingUnits</th>\n",
       "      <th>Stories</th>\n",
       "    </tr>\n",
       "  </thead>\n",
       "  <tbody>\n",
       "    <tr>\n",
       "      <th>0</th>\n",
       "      <td>17.0</td>\n",
       "      <td>4.0</td>\n",
       "    </tr>\n",
       "    <tr>\n",
       "      <th>1</th>\n",
       "      <td>108.0</td>\n",
       "      <td>12.0</td>\n",
       "    </tr>\n",
       "    <tr>\n",
       "      <th>2</th>\n",
       "      <td>37.0</td>\n",
       "      <td>14.0</td>\n",
       "    </tr>\n",
       "    <tr>\n",
       "      <th>3</th>\n",
       "      <td>7.0</td>\n",
       "      <td>4.0</td>\n",
       "    </tr>\n",
       "    <tr>\n",
       "      <th>4</th>\n",
       "      <td>11.0</td>\n",
       "      <td>5.0</td>\n",
       "    </tr>\n",
       "  </tbody>\n",
       "</table>\n",
       "</div>"
      ],
      "text/plain": [
       "   TotalBuildingUnits  Stories\n",
       "0                17.0      4.0\n",
       "1               108.0     12.0\n",
       "2                37.0     14.0\n",
       "3                 7.0      4.0\n",
       "4                11.0      5.0"
      ]
     },
     "execution_count": 60,
     "metadata": {},
     "output_type": "execute_result"
    }
   ],
   "source": [
    "building_2c.head()"
   ]
  },
  {
   "cell_type": "code",
   "execution_count": 61,
   "metadata": {},
   "outputs": [
    {
     "data": {
      "text/plain": [
       "<matplotlib.axes._subplots.AxesSubplot at 0x7f14018bfb70>"
      ]
     },
     "execution_count": 61,
     "metadata": {},
     "output_type": "execute_result"
    },
    {
     "data": {
      "image/png": "[encoded data removed]",
      "text/plain": [
       "<matplotlib.figure.Figure at 0x7f14018c1898>"
      ]
     },
     "metadata": {},
     "output_type": "display_data"
    }
   ],
   "source": [
    "building_2c.plot(x=\"TotalBuildingUnits\", y=\"Stories\")"
   ]
  },
  {
   "cell_type": "code",
   "execution_count": 62,
   "metadata": {},
   "outputs": [
    {
     "name": "stdout",
     "output_type": "stream",
     "text": [
      "Populating the interactive namespace from numpy and matplotlib\n"
     ]
    }
   ],
   "source": [
    "%pylab inline"
   ]
  },
  {
   "cell_type": "code",
   "execution_count": 63,
   "metadata": {},
   "outputs": [
    {
     "data": {
      "text/plain": [
       "<matplotlib.axes._subplots.AxesSubplot at 0x7f14019274a8>"
      ]
     },
     "execution_count": 63,
     "metadata": {},
     "output_type": "execute_result"
    },
    {
     "data": {
      "image/png": "[encoded data removed]",
      "text/plain": [
       "<matplotlib.figure.Figure at 0x7f1401898240>"
      ]
     },
     "metadata": {},
     "output_type": "display_data"
    }
   ],
   "source": [
    "building.plot(x= \"TotalBuildingUnits\", y=\"Stories\", kind = 'scatter')"
   ]
  },
  {
   "cell_type": "markdown",
   "metadata": {},
   "source": [
    "Figure 1: the number of stories against the total units for buildings that receive financial assistance from the Department of Housing Preservation and Development. This shows a positive correlation between building units and number of stories"
   ]
  },
  {
   "cell_type": "code",
   "execution_count": null,
   "metadata": {},
   "outputs": [],
   "source": []
  },
  {
   "cell_type": "code",
   "execution_count": null,
   "metadata": {},
   "outputs": [],
   "source": []
  },
  {
   "cell_type": "code",
   "execution_count": null,
   "metadata": {},
   "outputs": [],
   "source": []
  }
 ],
 "metadata": {
  "kernelspec": {
   "display_name": "PUI2016_Python3",
   "language": "python",
   "name": "pui2016_python3"
  },
  "language_info": {
   "codemirror_mode": {
    "name": "ipython",
    "version": 3
   },
   "file_extension": ".py",
   "mimetype": "text/x-python",
   "name": "python",
   "nbconvert_exporter": "python",
   "pygments_lexer": "ipython3",
   "version": "3.5.4"
  }
 },
 "nbformat": 4,
 "nbformat_minor": 2
}
